{
  "nbformat": 4,
  "nbformat_minor": 0,
  "metadata": {
    "colab": {
      "name": "我的Swift.ipynb",
      "provenance": [],
      "collapsed_sections": [],
      "authorship_tag": "ABX9TyNKBwPEEQBJUMZ1nWUjHooU",
      "include_colab_link": true
    },
    "kernelspec": {
      "name": "swift",
      "display_name": "Swift"
    }
  },
  "cells": [
    {
      "cell_type": "markdown",
      "metadata": {
        "id": "view-in-github",
        "colab_type": "text"
      },
      "source": [
        "<a href=\"https://colab.research.google.com/github/Xhs233/Swift/blob/main/%E6%88%91%E7%9A%84Swift.ipynb\" target=\"_parent\"><img src=\"https://colab.research.google.com/assets/colab-badge.svg\" alt=\"Open In Colab\"/></a>"
      ]
    },
    {
      "cell_type": "code",
      "metadata": {
        "id": "ihCW9NGjH1yF",
        "colab": {
          "base_uri": "https://localhost:8080/"
        },
        "outputId": "8faf6003-e4f5-4b22-be0b-01d8cf3d671c"
      },
      "source": [
        "var a = 12\n",
        "if a > 0 {\n",
        "      print(\"Fuck!\")\n",
        "}\n",
        "//This is my test swift program\n",
        " \n",
        "var ADS = [\"hee\",\"hh\",\"Englshi\"]\n",
        "print(ADS[2])\n",
        "ADS.append(\"数学\")\n",
        "\n",
        "for cc in ADS {\n",
        "  print(\"fuckyou!!!!\")    \n",
        "}\n",
        " \n",
        " \n",
        "let fish:Int = 312\n",
        "if (fish == 312) {\n",
        "  print(\"恭喜通过！！！！\")\n",
        "         \n",
        "} else {\n",
        "  print(\"Fuck!wdnmd!!!\")\n",
        "    \n",
        "}"
      ],
      "execution_count": 1,
      "outputs": [
        {
          "output_type": "stream",
          "text": [
            "Fuck!\r\n",
            "Englshi\r\n",
            "fuckyou!!!!\r\n",
            "fuckyou!!!!\r\n",
            "fuckyou!!!!\r\n",
            "fuckyou!!!!\r\n",
            "恭喜通过！！！！\r\n"
          ],
          "name": "stdout"
        }
      ]
    }
  ]
}